{
 "cells": [
  {
   "cell_type": "markdown",
   "id": "60f45ee1",
   "metadata": {},
   "source": [
    "<p style=\"font-size:150%\">ПИ20-2 Лим А. зачет</p>"
   ]
  },
  {
   "cell_type": "markdown",
   "id": "e6cb42ab",
   "metadata": {},
   "source": [
    "Вариант 10"
   ]
  },
  {
   "cell_type": "markdown",
   "id": "f6bd2b00",
   "metadata": {},
   "source": [
    "Вопрос 1. \n",
    "\n",
    "Создание таблиц и выполнение SQL-запросов с помощью библиотеки SQLite3 Python."
   ]
  },
  {
   "cell_type": "markdown",
   "id": "fb95c4d6",
   "metadata": {},
   "source": [
    "Прежде чем еобходимо импортировать библиотеку с помощью `import sqlite3`. \n",
    "\n",
    "Чтобы создать новую базу данных SQLite нужно создать подключение к ней (файл БД будет создан автоматически). Для этого создаем объект Connection с помощью функции `connect()`. Если требуется создать файл базы данных в конкретной папке, необходимо в месте с именем файла указать путь к ней, например: ```\"D:/Data/pythonsqlite.db\"```.\n",
    "\n",
    "Чтобы создать новую таблицу в базе данных SQLite, выполним следующие действия:\n",
    "\n",
    "1. Напишем выражения, обеспечивающие создание таблиц на языке SQL.\n",
    "2. Создадим объект *Connection*, используя функцию `connect()` *sqlite3*.\n",
    "3. Создадим объект *Cursor*, вызвав метод `cursor()` объекта *Connection*.\n",
    "4. Передадим SQL-выражение методу `execute()` объекта *Cursor* и выполним этот метод."
   ]
  },
  {
   "cell_type": "markdown",
   "id": "f5b39376",
   "metadata": {},
   "source": [
    "Вопрос 2. \n",
    "\n",
    "С помощью библиотеки SQLAlchemy создайте объекты таблиц базы данных Chinook. В таблице Employee содержится информация о сотрудниках, в таблице Customer - о клиентах, в таблице Invoice - информация о заказах. Информация о сотруднике, обслужившем конкретного клиента в поле SupportRepId. Составьте запрос, показывающий, сумму продаж каждого сотрудника в 2010 году. Результат должен содержать имя, фамилию сотрудника, сумму продаж."
   ]
  },
  {
   "cell_type": "code",
   "execution_count": 2,
   "id": "705f8f86",
   "metadata": {},
   "outputs": [],
   "source": [
    "from sqlalchemy import MetaData, Table, create_engine, select, and_, or_, not_, text, desc, union, union_all, asc\n",
    "from sqlalchemy.sql import func, exists, text, distinct\n",
    "import pandas as pd"
   ]
  },
  {
   "cell_type": "code",
   "execution_count": 12,
   "id": "18ff810b",
   "metadata": {},
   "outputs": [],
   "source": [
    "engine = create_engine('sqlite:///../Data/Chinook_Sqlite.sqlite')\n",
    "metadata = MetaData()\n",
    "metadata.reflect(bind = engine)\n",
    "conn = engine.connect()"
   ]
  },
  {
   "cell_type": "code",
   "execution_count": 13,
   "id": "2d372fc3",
   "metadata": {
    "scrolled": true
   },
   "outputs": [
    {
     "data": {
      "text/plain": [
       "dict_keys(['Album', 'Artist', 'Customer', 'Employee', 'Genre', 'Invoice', 'InvoiceLine', 'Track', 'MediaType', 'Playlist', 'PlaylistTrack'])"
      ]
     },
     "execution_count": 13,
     "metadata": {},
     "output_type": "execute_result"
    }
   ],
   "source": [
    "metadata.tables.keys()"
   ]
  },
  {
   "cell_type": "code",
   "execution_count": 14,
   "id": "67c72dd7",
   "metadata": {},
   "outputs": [],
   "source": [
    "Album=Table(\"Album\", metadata, autoload=True, autoload_with=\"engine\")\n",
    "Artist=Table(\"Artist\", metadata, autoload=True, autoload_with=\"engine\")\n",
    "Customer=Table(\"Customer\", metadata, autoload=True, autoload_with=\"engine\")\n",
    "Employee=Table(\"Employee\", metadata, autoload=True, autoload_with=\"engine\")\n",
    "Genre=Table(\"Genre\", metadata, autoload=True, autoload_with=\"engine\")\n",
    "Invoice=Table(\"Invoice\", metadata, autolad=True, autolad_with=\"engine\")\n",
    "InvoiceLine=Table(\"InvoiceLine\", metadata, autoload=True, autoload_with=\"engine\")\n",
    "Track=Table(\"Track\", metadata, autoload=True, autoload_with=\"engine\")\n",
    "MediaType=Table(\"MediaType\", metadata, autoload=True, autoload_with=\"engine\")\n",
    "Playlist=Table(\"Playlist\", metadata, autoload=True, autoload_with=\"engine\")\n",
    "PlaylistTrack=Table(\"PlaylistTrack\", metadata, autoload=True, autoload_with=\"engine\")"
   ]
  },
  {
   "cell_type": "code",
   "execution_count": 15,
   "id": "99ba90dc",
   "metadata": {},
   "outputs": [
    {
     "name": "stdout",
     "output_type": "stream",
     "text": [
      "  LastName FirstName   Сумма\n",
      "0  Peacock      Jane  833.04\n",
      "1     Park  Margaret  775.40\n",
      "2  Johnson     Steve  720.16\n"
     ]
    },
    {
     "name": "stderr",
     "output_type": "stream",
     "text": [
      "/Library/Frameworks/Python.framework/Versions/3.10/lib/python3.10/site-packages/pandas/io/sql.py:1402: SAWarning: Dialect sqlite+pysqlite does *not* support Decimal objects natively, and SQLAlchemy must convert from floating point - rounding errors and other issues may occur. Please consider storing Decimal numbers as strings or integers on this platform for lossless storage.\n",
      "  return self.connectable.execution_options().execute(*args, **kwargs)\n"
     ]
    }
   ],
   "source": [
    "subq = select(Employee.c.EmployeeId, Employee.c.LastName, Employee.c.FirstName, Invoice.c.Total )\\\n",
    "    .join_from(Employee, Customer, Employee.c.EmployeeId == Customer.c.SupportRepId)\\\n",
    "    .join(Invoice, Customer.c.CustomerId == Invoice.c.CustomerId).subquery()\n",
    "\n",
    "stmt = select(subq.c.LastName, subq.c.FirstName, func.sum(subq.c.Total).label('Сумма')).group_by(subq.c.EmployeeId)\n",
    "\n",
    "df = pd.read_sql(stmt, conn)\n",
    "print(df)"
   ]
  },
  {
   "cell_type": "markdown",
   "id": "0682eb26",
   "metadata": {},
   "source": [
    "Вопрос 3. \n",
    "\n",
    "Набор данных BikeShare_19_20.csv содержит информацию о поездках между станциями проката велосипедов. С помощью библиотеки SQLAlchemy cоздайте таблицу БД и вставьте в эту таблицу данные из файла BikeShare_19_20.csv. Решите задачу.\n",
    "Атрибут member_casual содержит тип клиента. Отдельно для каждого типа клиента покажите разность в секундах продолжительности каждой поездки и средней продолжительности поездки среди поездок клиентов данного типа."
   ]
  },
  {
   "cell_type": "code",
   "execution_count": 7,
   "id": "fd49c966",
   "metadata": {},
   "outputs": [],
   "source": [
    "engine = create_engine('sqlite+pysqlite:///../Data/BikeShareService.sqlite')\n",
    "conn = engine.connect()\n",
    "metadata = MetaData()\n",
    "metadata.reflect(bind=engine)"
   ]
  },
  {
   "cell_type": "code",
   "execution_count": 8,
   "id": "6ef65716",
   "metadata": {},
   "outputs": [
    {
     "data": {
      "text/plain": [
       "<sqlalchemy.engine.cursor.LegacyCursorResult at 0x1061a1780>"
      ]
     },
     "execution_count": 8,
     "metadata": {},
     "output_type": "execute_result"
    }
   ],
   "source": [
    "sql = '''\n",
    "CREATE TABLE BikeShare (\n",
    "    ride_id text PRIMARY KEY,\n",
    "    rideable_type text,\n",
    "    started_at text,\n",
    "    ended_at text,\n",
    "    start_station_name text,\n",
    "    start_station_id integer,\n",
    "    end_station_name text,\n",
    "    end_station_id integer,\n",
    "    start_lat numeric,\n",
    "    start_lng numeric,\n",
    "    end_lat numeric,\n",
    "    end_lng numeric,\n",
    "    member_casual text,\n",
    "    duration integer);\n",
    "'''\n",
    "conn.execute(sql)"
   ]
  },
  {
   "cell_type": "code",
   "execution_count": 9,
   "id": "5b00fef0",
   "metadata": {},
   "outputs": [
    {
     "data": {
      "text/plain": [
       "457"
      ]
     },
     "execution_count": 9,
     "metadata": {},
     "output_type": "execute_result"
    }
   ],
   "source": [
    "path_to_csv = '../Data/BikeShare_19_20.csv'\n",
    "df = pd.read_csv(path_to_csv)\n",
    "df.to_sql('BikeShare', con=conn, if_exists = 'append', index=False)"
   ]
  },
  {
   "cell_type": "code",
   "execution_count": 10,
   "id": "1aa3eaef",
   "metadata": {},
   "outputs": [
    {
     "name": "stdout",
     "output_type": "stream",
     "text": [
      "              ride_id member_casual  duration  Average_duration  Difference\n",
      "0    D4D62DFDE089698B        casual       536           5244.92    -4708.92\n",
      "1    16EA6FB99FB215E8        casual      5681           5244.92      436.08\n",
      "2    DF27A9FB30E2FD63        casual      6195           5244.92      950.08\n",
      "3    2A74CFCD2162E111        casual      1128           5244.92    -4116.92\n",
      "4    483CB7BD2969A1BE        casual      4654           5244.92     -590.92\n",
      "..                ...           ...       ...               ...         ...\n",
      "452  2B45E461C98F0BB4        member      1797           1149.08      647.92\n",
      "453  31D96A503057EBEE        member      3690           1149.08     2540.92\n",
      "454  C2D07E36E4185198        member      1028           1149.08     -121.08\n",
      "455  7E04BBAE91B22004        member       597           1149.08     -552.08\n",
      "456  2411BE3F9BF28476        member      1522           1149.08      372.92\n",
      "\n",
      "[457 rows x 5 columns]\n"
     ]
    }
   ],
   "source": [
    "stmt = \"\"\"\n",
    "WITH subq AS(\n",
    "    SELECT ride_id, member_casual, duration,\n",
    "    avg(duration) over(partition by member_casual) AS Avg\n",
    "    FROM BikeShare\n",
    "),\n",
    "subq2 AS(\n",
    "    SELECT ride_id, member_casual, duration, round(Avg, 2) AS Average_duration\n",
    "    FROM subq\n",
    ")\n",
    "SELECT *, duration-Average_duration AS Difference\n",
    "FROM subq2\n",
    "\"\"\"\n",
    "\n",
    "df = pd.read_sql(stmt, conn)\n",
    "print(df)"
   ]
  }
 ],
 "metadata": {
  "interpreter": {
   "hash": "aee8b7b246df8f9039afb4144a1f6fd8d2ca17a180786b69acc140d282b71a49"
  },
  "kernelspec": {
   "display_name": "Python 3.10.4 64-bit",
   "language": "python",
   "name": "python3"
  },
  "language_info": {
   "codemirror_mode": {
    "name": "ipython",
    "version": 3
   },
   "file_extension": ".py",
   "mimetype": "text/x-python",
   "name": "python",
   "nbconvert_exporter": "python",
   "pygments_lexer": "ipython3",
   "version": "3.10.4"
  }
 },
 "nbformat": 4,
 "nbformat_minor": 5
}
